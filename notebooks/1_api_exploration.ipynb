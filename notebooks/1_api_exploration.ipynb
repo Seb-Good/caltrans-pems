{
 "cells": [
  {
   "cell_type": "markdown",
   "metadata": {},
   "source": [
    "# CalTrans-PeMS\n",
    "### 1. Get Data"
   ]
  },
  {
   "cell_type": "markdown",
   "metadata": {},
   "source": [
    "# Setup Notebook"
   ]
  },
  {
   "cell_type": "code",
   "execution_count": 23,
   "metadata": {},
   "outputs": [
    {
     "name": "stdout",
     "output_type": "stream",
     "text": [
      "The autoreload extension is already loaded. To reload it, use:\n",
      "  %reload_ext autoreload\n"
     ]
    }
   ],
   "source": [
    "# Import 3rd party libraries\n",
    "import os\n",
    "import sys\n",
    "import pandas as pd\n",
    "\n",
    "# Local imports\n",
    "sys.path.insert(0, os.path.dirname(os.path.abspath(os.getcwd())))\n",
    "from pems.handler import PeMSHandler\n",
    "\n",
    "# Configure Notebook\n",
    "import warnings\n",
    "warnings.filterwarnings('ignore')\n",
    "%matplotlib inline\n",
    "%load_ext autoreload\n",
    "%autoreload 2"
   ]
  },
  {
   "cell_type": "markdown",
   "metadata": {},
   "source": [
    "# Get PeMS Data"
   ]
  },
  {
   "cell_type": "code",
   "execution_count": 25,
   "metadata": {},
   "outputs": [
    {
     "name": "stdout",
     "output_type": "stream",
     "text": [
      "2020-05-08 12:55:22,969 [INFO    ] Requesting initial page...\n",
      "2020-05-08 12:55:23,651 [INFO    ] Initial page opened.\n",
      "2020-05-08 12:55:23,683 [INFO    ] Logging in...\n",
      "2020-05-08 12:55:38,494 [INFO    ] Logged in.\n"
     ]
    }
   ],
   "source": [
    "# Connect to PeMS\n",
    "pems = PeMSHandler(username='sebi.goodfellow@utoronto.ca', password='xG*apple3f')"
   ]
  },
  {
   "cell_type": "code",
   "execution_count": 26,
   "metadata": {},
   "outputs": [
    {
     "data": {
      "text/plain": [
       "{'fastrak_5min': 'FasTrak 5-Minute',\n",
       " 'tmg_volume_day': 'Census Volume Day',\n",
       " 'reid_hour': 'Re-ID Hour',\n",
       " 'gn_link_5min': 'Link 5-Minute',\n",
       " 'fastrak_locations': 'FasTrak Locations',\n",
       " 'meta': 'Station Metadata',\n",
       " 'station_aadt': 'Station AADT',\n",
       " 'tmg_trucks_day': 'Census Trucks Day',\n",
       " 'chp_incidents_day': 'CHP Incidents Day',\n",
       " 'reid_raw': 'Re-ID Raw',\n",
       " 'station_day': 'Station Day',\n",
       " 'fastrak_day': 'FasTrak Day',\n",
       " 'station_hour': 'Station Hour',\n",
       " 'station_raw': 'Station Raw',\n",
       " 'tmg_vclass_hour': 'Census V-Class Hour',\n",
       " 'station_5min': 'Station 5-Minute',\n",
       " 'fastrak_hour': 'FasTrak Hour',\n",
       " 'reid_5min': 'Re-ID 5-Minute',\n",
       " 'tmg_trucks_hour': 'Census Trucks Hour',\n",
       " 'tmg_vclass_day': 'Census V-Class Day',\n",
       " 'reid_locations': 'Re-ID Locations',\n",
       " 'tmg_station_configs': 'Census Station Configurations',\n",
       " 'chp_incidents_month': 'CHP Incidents Month'}"
      ]
     },
     "execution_count": 26,
     "metadata": {},
     "output_type": "execute_result"
    }
   ],
   "source": [
    "# View labels reference\n",
    "pems.label_reference"
   ]
  },
  {
   "cell_type": "code",
   "execution_count": 28,
   "metadata": {},
   "outputs": [
    {
     "data": {
      "text/plain": [
       "['meta',\n",
       " 'station_5min',\n",
       " 'station_aadt',\n",
       " 'station_day',\n",
       " 'station_hour',\n",
       " 'station_raw',\n",
       " 'chp_incidents_day',\n",
       " 'chp_incidents_month',\n",
       " 'fastrak_5min',\n",
       " 'fastrak_day',\n",
       " 'fastrak_hour',\n",
       " 'fastrak_locations',\n",
       " 'gn_link_5min',\n",
       " 'reid_5min',\n",
       " 'reid_hour',\n",
       " 'reid_locations',\n",
       " 'reid_raw',\n",
       " 'tmg_station_configs',\n",
       " 'tmg_trucks_day',\n",
       " 'tmg_trucks_hour',\n",
       " 'tmg_vclass_day',\n",
       " 'tmg_vclass_hour',\n",
       " 'tmg_volume_day']"
      ]
     },
     "execution_count": 28,
     "metadata": {},
     "output_type": "execute_result"
    }
   ],
   "source": [
    "# View for available file types\n",
    "pems.get_file_types()"
   ]
  },
  {
   "cell_type": "code",
   "execution_count": 29,
   "metadata": {},
   "outputs": [
    {
     "data": {
      "text/plain": [
       "['3', '4', '5', '6', '7', '8', '10', '11', '12']"
      ]
     },
     "execution_count": 29,
     "metadata": {},
     "output_type": "execute_result"
    }
   ],
   "source": [
    "# View for available districts for a file type\n",
    "pems.get_districts(file_type='station_5min')"
   ]
  },
  {
   "cell_type": "code",
   "execution_count": 57,
   "metadata": {
    "scrolled": false
   },
   "outputs": [
    {
     "name": "stdout",
     "output_type": "stream",
     "text": [
      "2020-05-08 19:38:25,489 [INFO    ] No data available for filetype: meta, year: 1998, district: 3\n",
      "2020-05-08 19:38:26,046 [INFO    ] No data available for filetype: meta, year: 1999, district: 3\n",
      "2020-05-08 19:38:26,526 [INFO    ] No data available for filetype: meta, year: 2000, district: 3\n",
      "2020-05-08 19:38:27,580 [INFO    ] No data available for filetype: meta, year: 2002, district: 3\n",
      "2020-05-08 19:38:28,635 [INFO    ] No data available for filetype: meta, year: 1998, district: 4\n",
      "2020-05-08 19:38:29,164 [INFO    ] No data available for filetype: meta, year: 1999, district: 4\n",
      "2020-05-08 19:38:29,696 [INFO    ] No data available for filetype: meta, year: 2000, district: 4\n",
      "2020-05-08 19:38:30,757 [INFO    ] No data available for filetype: meta, year: 2002, district: 4\n",
      "2020-05-08 19:38:31,214 [INFO    ] No data available for filetype: meta, year: 2003, district: 4\n",
      "2020-05-08 19:38:31,654 [INFO    ] No data available for filetype: station_5min, year: 1998, district: 3\n",
      "2020-05-08 19:38:32,174 [INFO    ] No data available for filetype: station_5min, year: 1999, district: 3\n",
      "2020-05-08 19:38:32,649 [INFO    ] No data available for filetype: station_5min, year: 2000, district: 3\n",
      "2020-05-08 19:38:35,238 [INFO    ] No data available for filetype: station_5min, year: 1998, district: 4\n",
      "2020-05-08 19:38:35,761 [INFO    ] No data available for filetype: station_5min, year: 1999, district: 4\n",
      "2020-05-08 19:38:36,457 [INFO    ] No data available for filetype: station_5min, year: 2000, district: 4\n"
     ]
    },
    {
     "data": {
      "text/html": [
       "<div>\n",
       "<style scoped>\n",
       "    .dataframe tbody tr th:only-of-type {\n",
       "        vertical-align: middle;\n",
       "    }\n",
       "\n",
       "    .dataframe tbody tr th {\n",
       "        vertical-align: top;\n",
       "    }\n",
       "\n",
       "    .dataframe thead th {\n",
       "        text-align: right;\n",
       "    }\n",
       "</style>\n",
       "<table border=\"1\" class=\"dataframe\">\n",
       "  <thead>\n",
       "    <tr style=\"text-align: right;\">\n",
       "      <th></th>\n",
       "      <th>file_type</th>\n",
       "      <th>district</th>\n",
       "      <th>year</th>\n",
       "      <th>month</th>\n",
       "      <th>file_name</th>\n",
       "      <th>file_id</th>\n",
       "      <th>megabites</th>\n",
       "      <th>download_url</th>\n",
       "    </tr>\n",
       "  </thead>\n",
       "  <tbody>\n",
       "    <tr>\n",
       "      <th>0</th>\n",
       "      <td>meta</td>\n",
       "      <td>3</td>\n",
       "      <td>2001</td>\n",
       "      <td>March</td>\n",
       "      <td>d03_text_meta_2001_03_01.txt</td>\n",
       "      <td>109855</td>\n",
       "      <td>0.0</td>\n",
       "      <td>/?download=109855&amp;dnode=Clearinghouse</td>\n",
       "    </tr>\n",
       "    <tr>\n",
       "      <th>1</th>\n",
       "      <td>meta</td>\n",
       "      <td>3</td>\n",
       "      <td>2003</td>\n",
       "      <td>March</td>\n",
       "      <td>d03_text_meta_2001_03_01.txt</td>\n",
       "      <td>109855</td>\n",
       "      <td>0.0</td>\n",
       "      <td>/?download=109855&amp;dnode=Clearinghouse</td>\n",
       "    </tr>\n",
       "    <tr>\n",
       "      <th>2</th>\n",
       "      <td>meta</td>\n",
       "      <td>3</td>\n",
       "      <td>2003</td>\n",
       "      <td>April</td>\n",
       "      <td>d03_text_meta_2003_04_02.txt</td>\n",
       "      <td>109857</td>\n",
       "      <td>0.0</td>\n",
       "      <td>/?download=109857&amp;dnode=Clearinghouse</td>\n",
       "    </tr>\n",
       "    <tr>\n",
       "      <th>3</th>\n",
       "      <td>meta</td>\n",
       "      <td>4</td>\n",
       "      <td>2001</td>\n",
       "      <td>August</td>\n",
       "      <td>d04_text_meta_2001_08_01.txt</td>\n",
       "      <td>110411</td>\n",
       "      <td>0.1</td>\n",
       "      <td>/?download=110411&amp;dnode=Clearinghouse</td>\n",
       "    </tr>\n",
       "    <tr>\n",
       "      <th>4</th>\n",
       "      <td>station_5min</td>\n",
       "      <td>3</td>\n",
       "      <td>2001</td>\n",
       "      <td>March</td>\n",
       "      <td>d03_text_station_5min_2001_03_04.txt.gz</td>\n",
       "      <td>269025</td>\n",
       "      <td>0.2</td>\n",
       "      <td>/?download=269025&amp;dnode=Clearinghouse</td>\n",
       "    </tr>\n",
       "  </tbody>\n",
       "</table>\n",
       "</div>"
      ],
      "text/plain": [
       "      file_type district  year   month  \\\n",
       "0          meta        3  2001   March   \n",
       "1          meta        3  2003   March   \n",
       "2          meta        3  2003   April   \n",
       "3          meta        4  2001  August   \n",
       "4  station_5min        3  2001   March   \n",
       "\n",
       "                                 file_name file_id  megabites  \\\n",
       "0             d03_text_meta_2001_03_01.txt  109855        0.0   \n",
       "1             d03_text_meta_2001_03_01.txt  109855        0.0   \n",
       "2             d03_text_meta_2003_04_02.txt  109857        0.0   \n",
       "3             d04_text_meta_2001_08_01.txt  110411        0.1   \n",
       "4  d03_text_station_5min_2001_03_04.txt.gz  269025        0.2   \n",
       "\n",
       "                            download_url  \n",
       "0  /?download=109855&dnode=Clearinghouse  \n",
       "1  /?download=109855&dnode=Clearinghouse  \n",
       "2  /?download=109857&dnode=Clearinghouse  \n",
       "3  /?download=110411&dnode=Clearinghouse  \n",
       "4  /?download=269025&dnode=Clearinghouse  "
      ]
     },
     "execution_count": 57,
     "metadata": {},
     "output_type": "execute_result"
    }
   ],
   "source": [
    "# View summary of available files for (start_year, end_year, districts, file_types) query\n",
    "files = pems.get_files(start_year=1998, end_year=2003, districts=['3', '4'], \n",
    "                       file_types=['meta', 'station_5min'], months=None)\n",
    "\n",
    "# View DataFrame\n",
    "pd.DataFrame(files).head()"
   ]
  },
  {
   "cell_type": "code",
   "execution_count": 56,
   "metadata": {
    "scrolled": false
   },
   "outputs": [
    {
     "name": "stdout",
     "output_type": "stream",
     "text": [
      "2020-05-08 17:22:14,726 [INFO    ] Start download, d03_text_station_5min_2002_01_01.txt.gz\n",
      "2020-05-08 17:22:17,322 [INFO    ] Download completed\n",
      "2020-05-08 17:22:22,340 [INFO    ] Start download, d03_text_station_5min_2002_01_02.txt.gz\n",
      "2020-05-08 17:22:25,347 [INFO    ] Download completed\n",
      "2020-05-08 17:22:30,354 [INFO    ] Start download, d03_text_station_5min_2002_01_03.txt.gz\n",
      "2020-05-08 17:22:33,361 [INFO    ] Download completed\n",
      "2020-05-08 17:22:38,368 [INFO    ] Start download, d03_text_station_5min_2002_01_04.txt.gz\n",
      "2020-05-08 17:22:41,021 [INFO    ] Download completed\n",
      "2020-05-08 17:22:46,044 [INFO    ] Start download, d03_text_station_5min_2002_01_05.txt.gz\n",
      "2020-05-08 17:22:48,173 [INFO    ] Download completed\n",
      "2020-05-08 17:22:53,179 [INFO    ] Start download, d03_text_station_5min_2002_01_06.txt.gz\n",
      "2020-05-08 17:22:57,435 [INFO    ] Download completed\n",
      "2020-05-08 17:23:02,442 [INFO    ] Start download, d03_text_station_5min_2002_01_07.txt.gz\n",
      "2020-05-08 17:23:05,711 [INFO    ] Download completed\n",
      "2020-05-08 17:23:10,726 [INFO    ] Start download, d03_text_station_5min_2002_01_08.txt.gz\n",
      "2020-05-08 17:23:13,449 [INFO    ] Download completed\n",
      "2020-05-08 17:23:18,464 [INFO    ] Start download, d03_text_station_5min_2002_01_09.txt.gz\n",
      "2020-05-08 17:23:20,887 [INFO    ] Download completed\n",
      "2020-05-08 17:23:25,908 [INFO    ] Start download, d03_text_station_5min_2002_01_10.txt.gz\n",
      "2020-05-08 17:23:28,604 [INFO    ] Download completed\n",
      "2020-05-08 17:23:33,609 [INFO    ] Start download, d03_text_station_5min_2002_01_11.txt.gz\n",
      "2020-05-08 17:23:36,290 [INFO    ] Download completed\n",
      "2020-05-08 17:23:41,296 [INFO    ] Start download, d03_text_station_5min_2002_01_12.txt.gz\n",
      "2020-05-08 17:23:44,363 [INFO    ] Download completed\n",
      "2020-05-08 17:23:49,371 [INFO    ] Start download, d03_text_station_5min_2002_01_13.txt.gz\n",
      "2020-05-08 17:23:51,577 [INFO    ] Download completed\n",
      "2020-05-08 17:23:56,587 [INFO    ] Start download, d03_text_station_5min_2002_01_14.txt.gz\n",
      "2020-05-08 17:23:58,946 [INFO    ] Download completed\n",
      "2020-05-08 17:24:03,955 [INFO    ] Start download, d03_text_station_5min_2002_01_15.txt.gz\n",
      "2020-05-08 17:24:07,236 [INFO    ] Download completed\n",
      "2020-05-08 17:24:12,244 [INFO    ] Start download, d03_text_station_5min_2002_01_16.txt.gz\n",
      "2020-05-08 17:24:15,555 [INFO    ] Download completed\n",
      "2020-05-08 17:24:20,566 [INFO    ] Start download, d03_text_station_5min_2002_01_17.txt.gz\n",
      "2020-05-08 17:24:23,984 [INFO    ] Download completed\n",
      "2020-05-08 17:24:28,990 [INFO    ] Start download, d03_text_station_5min_2002_01_18.txt.gz\n",
      "2020-05-08 17:24:32,149 [INFO    ] Download completed\n",
      "2020-05-08 17:24:37,167 [INFO    ] Start download, d03_text_station_5min_2002_01_19.txt.gz\n",
      "2020-05-08 17:24:41,507 [INFO    ] Download completed\n",
      "2020-05-08 17:24:46,520 [INFO    ] Start download, d03_text_station_5min_2002_01_20.txt.gz\n",
      "2020-05-08 17:24:49,276 [INFO    ] Download completed\n",
      "2020-05-08 17:24:54,290 [INFO    ] Start download, d03_text_station_5min_2002_01_21.txt.gz\n",
      "2020-05-08 17:24:57,565 [INFO    ] Download completed\n",
      "2020-05-08 17:25:02,587 [INFO    ] Start download, d03_text_station_5min_2002_01_22.txt.gz\n",
      "2020-05-08 17:25:05,607 [INFO    ] Download completed\n",
      "2020-05-08 17:25:10,625 [INFO    ] Start download, d03_text_station_5min_2002_01_23.txt.gz\n",
      "2020-05-08 17:25:13,817 [INFO    ] Download completed\n",
      "2020-05-08 17:25:18,837 [INFO    ] Start download, d03_text_station_5min_2002_01_24.txt.gz\n",
      "2020-05-08 17:25:21,910 [INFO    ] Download completed\n",
      "2020-05-08 17:25:26,922 [INFO    ] Start download, d03_text_station_5min_2002_01_25.txt.gz\n",
      "2020-05-08 17:25:29,980 [INFO    ] Download completed\n",
      "2020-05-08 17:25:34,989 [INFO    ] Start download, d03_text_station_5min_2002_01_26.txt.gz\n",
      "2020-05-08 17:25:38,274 [INFO    ] Download completed\n",
      "2020-05-08 17:25:43,283 [INFO    ] Start download, d03_text_station_5min_2002_01_27.txt.gz\n",
      "2020-05-08 17:25:46,163 [INFO    ] Download completed\n",
      "2020-05-08 17:25:51,170 [INFO    ] Start download, d03_text_station_5min_2002_01_28.txt.gz\n",
      "2020-05-08 17:25:54,463 [INFO    ] Download completed\n",
      "2020-05-08 17:25:59,482 [INFO    ] Start download, d03_text_station_5min_2002_01_29.txt.gz\n",
      "2020-05-08 17:26:02,240 [INFO    ] Download completed\n",
      "2020-05-08 17:26:07,251 [INFO    ] Start download, d03_text_station_5min_2002_01_30.txt.gz\n",
      "2020-05-08 17:26:10,064 [INFO    ] Download completed\n",
      "2020-05-08 17:26:15,084 [INFO    ] Start download, d03_text_station_5min_2002_01_31.txt.gz\n",
      "2020-05-08 17:26:17,826 [INFO    ] Download completed\n",
      "2020-05-08 17:26:22,851 [INFO    ] Downloads complete, 31 files, 30.8 megabites\n"
     ]
    }
   ],
   "source": [
    "# Download files for (start_year, end_year, districts, file_types) query\n",
    "pems.download_files(start_year=2001, end_year=2002, districts=['3'], \n",
    "                    file_types=['station_5min'], months=['January'])"
   ]
  }
 ],
 "metadata": {
  "kernelspec": {
   "display_name": "Python 3",
   "language": "python",
   "name": "python3"
  },
  "language_info": {
   "codemirror_mode": {
    "name": "ipython",
    "version": 3
   },
   "file_extension": ".py",
   "mimetype": "text/x-python",
   "name": "python",
   "nbconvert_exporter": "python",
   "pygments_lexer": "ipython3",
   "version": "3.7.7"
  }
 },
 "nbformat": 4,
 "nbformat_minor": 4
}

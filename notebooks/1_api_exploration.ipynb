{
 "cells": [
  {
   "cell_type": "markdown",
   "metadata": {},
   "source": [
    "# CalTrans-PeMS\n",
    "### 1. Get Data"
   ]
  },
  {
   "cell_type": "markdown",
   "metadata": {},
   "source": [
    "# Setup Notebook"
   ]
  },
  {
   "cell_type": "code",
   "execution_count": 23,
   "metadata": {},
   "outputs": [
    {
     "name": "stdout",
     "output_type": "stream",
     "text": [
      "The autoreload extension is already loaded. To reload it, use:\n",
      "  %reload_ext autoreload\n"
     ]
    }
   ],
   "source": [
    "# Import 3rd party libraries\n",
    "import os\n",
    "import sys\n",
    "import pandas as pd\n",
    "\n",
    "# Local imports\n",
    "sys.path.insert(0, os.path.dirname(os.path.abspath(os.getcwd())))\n",
    "from pems.handler import PeMSHandler\n",
    "\n",
    "# Configure Notebook\n",
    "import warnings\n",
    "warnings.filterwarnings('ignore')\n",
    "%matplotlib inline\n",
    "%load_ext autoreload\n",
    "%autoreload 2"
   ]
  },
  {
   "cell_type": "markdown",
   "metadata": {},
   "source": [
    "# Get PeMS Data"
   ]
  },
  {
   "cell_type": "code",
   "execution_count": 25,
   "metadata": {},
   "outputs": [
    {
     "name": "stdout",
     "output_type": "stream",
     "text": [
      "2020-05-08 12:55:22,969 [INFO    ] Requesting initial page...\n",
      "2020-05-08 12:55:23,651 [INFO    ] Initial page opened.\n",
      "2020-05-08 12:55:23,683 [INFO    ] Logging in...\n",
      "2020-05-08 12:55:38,494 [INFO    ] Logged in.\n"
     ]
    }
   ],
   "source": [
    "# Connect to PeMS\n",
    "pems = PeMSHandler(username='sebi.goodfellow@utoronto.ca', password='xG*apple3f')"
   ]
  },
  {
   "cell_type": "code",
   "execution_count": 26,
   "metadata": {},
   "outputs": [
    {
     "data": {
      "text/plain": [
       "{'fastrak_5min': 'FasTrak 5-Minute',\n",
       " 'tmg_volume_day': 'Census Volume Day',\n",
       " 'reid_hour': 'Re-ID Hour',\n",
       " 'gn_link_5min': 'Link 5-Minute',\n",
       " 'fastrak_locations': 'FasTrak Locations',\n",
       " 'meta': 'Station Metadata',\n",
       " 'station_aadt': 'Station AADT',\n",
       " 'tmg_trucks_day': 'Census Trucks Day',\n",
       " 'chp_incidents_day': 'CHP Incidents Day',\n",
       " 'reid_raw': 'Re-ID Raw',\n",
       " 'station_day': 'Station Day',\n",
       " 'fastrak_day': 'FasTrak Day',\n",
       " 'station_hour': 'Station Hour',\n",
       " 'station_raw': 'Station Raw',\n",
       " 'tmg_vclass_hour': 'Census V-Class Hour',\n",
       " 'station_5min': 'Station 5-Minute',\n",
       " 'fastrak_hour': 'FasTrak Hour',\n",
       " 'reid_5min': 'Re-ID 5-Minute',\n",
       " 'tmg_trucks_hour': 'Census Trucks Hour',\n",
       " 'tmg_vclass_day': 'Census V-Class Day',\n",
       " 'reid_locations': 'Re-ID Locations',\n",
       " 'tmg_station_configs': 'Census Station Configurations',\n",
       " 'chp_incidents_month': 'CHP Incidents Month'}"
      ]
     },
     "execution_count": 26,
     "metadata": {},
     "output_type": "execute_result"
    }
   ],
   "source": [
    "# View labels reference\n",
    "pems.label_reference"
   ]
  },
  {
   "cell_type": "code",
   "execution_count": 27,
   "metadata": {},
   "outputs": [
    {
     "name": "stdout",
     "output_type": "stream",
     "text": [
      "yes\n"
     ]
    }
   ],
   "source": [
    "seb = list()\n",
    "if not seb:\n",
    "    print('yes')"
   ]
  },
  {
   "cell_type": "code",
   "execution_count": 28,
   "metadata": {},
   "outputs": [
    {
     "data": {
      "text/plain": [
       "['meta',\n",
       " 'station_5min',\n",
       " 'station_aadt',\n",
       " 'station_day',\n",
       " 'station_hour',\n",
       " 'station_raw',\n",
       " 'chp_incidents_day',\n",
       " 'chp_incidents_month',\n",
       " 'fastrak_5min',\n",
       " 'fastrak_day',\n",
       " 'fastrak_hour',\n",
       " 'fastrak_locations',\n",
       " 'gn_link_5min',\n",
       " 'reid_5min',\n",
       " 'reid_hour',\n",
       " 'reid_locations',\n",
       " 'reid_raw',\n",
       " 'tmg_station_configs',\n",
       " 'tmg_trucks_day',\n",
       " 'tmg_trucks_hour',\n",
       " 'tmg_vclass_day',\n",
       " 'tmg_vclass_hour',\n",
       " 'tmg_volume_day']"
      ]
     },
     "execution_count": 28,
     "metadata": {},
     "output_type": "execute_result"
    }
   ],
   "source": [
    "# View for available file types\n",
    "pems.get_file_types()"
   ]
  },
  {
   "cell_type": "code",
   "execution_count": 29,
   "metadata": {},
   "outputs": [
    {
     "data": {
      "text/plain": [
       "['3', '4', '5', '6', '7', '8', '10', '11', '12']"
      ]
     },
     "execution_count": 29,
     "metadata": {},
     "output_type": "execute_result"
    }
   ],
   "source": [
    "# View for available districts for a file type\n",
    "pems.get_districts(file_type='station_5min')"
   ]
  },
  {
   "cell_type": "code",
   "execution_count": null,
   "metadata": {
    "scrolled": false
   },
   "outputs": [
    {
     "name": "stdout",
     "output_type": "stream",
     "text": [
      "2020-05-08 13:53:36,637 [INFO    ] No data available for filetype: station_5min, year: 1998, district: 3\n",
      "2020-05-08 13:53:37,175 [INFO    ] No data available for filetype: station_5min, year: 1999, district: 3\n"
     ]
    }
   ],
   "source": [
    "# View summary of available files for (start_year, end_year, districts, file_types) query\n",
    "files = pems.get_files(start_year=1998, end_year=2003, districts=['3'], file_types=['station_5min'], months=None)\n",
    "\n",
    "# View DataFrame\n",
    "pd.DataFrame(files).head()"
   ]
  },
  {
   "cell_type": "code",
   "execution_count": 7,
   "metadata": {
    "scrolled": false
   },
   "outputs": [
    {
     "name": "stdout",
     "output_type": "stream",
     "text": [
      "2020-05-07 19:44:00,199 [INFO    ] Start download, d03_text_station_5min_2002_01_01.txt.gz\n",
      "2020-05-07 19:44:03,262 [INFO    ] Download completed\n",
      "2020-05-07 19:44:08,268 [INFO    ] Start download, d03_text_station_5min_2002_01_02.txt.gz\n",
      "2020-05-07 19:44:10,958 [INFO    ] Download completed\n",
      "2020-05-07 19:44:15,981 [INFO    ] Start download, d03_text_station_5min_2002_01_03.txt.gz\n",
      "2020-05-07 19:44:18,594 [INFO    ] Download completed\n",
      "2020-05-07 19:44:23,608 [INFO    ] Start download, d03_text_station_5min_2002_01_04.txt.gz\n",
      "2020-05-07 19:44:26,488 [INFO    ] Download completed\n",
      "2020-05-07 19:44:31,505 [INFO    ] Start download, d03_text_station_5min_2002_01_05.txt.gz\n",
      "2020-05-07 19:44:33,981 [INFO    ] Download completed\n",
      "2020-05-07 19:44:38,996 [INFO    ] Start download, d03_text_station_5min_2002_01_06.txt.gz\n",
      "2020-05-07 19:44:41,537 [INFO    ] Download completed\n",
      "2020-05-07 19:44:46,555 [INFO    ] Start download, d03_text_station_5min_2002_01_07.txt.gz\n",
      "2020-05-07 19:44:49,126 [INFO    ] Download completed\n",
      "2020-05-07 19:44:54,148 [INFO    ] Start download, d03_text_station_5min_2002_01_08.txt.gz\n",
      "2020-05-07 19:44:57,016 [INFO    ] Download completed\n",
      "2020-05-07 19:45:02,037 [INFO    ] Start download, d03_text_station_5min_2002_01_09.txt.gz\n",
      "2020-05-07 19:45:04,512 [INFO    ] Download completed\n",
      "2020-05-07 19:45:09,528 [INFO    ] Start download, d03_text_station_5min_2002_01_10.txt.gz\n",
      "2020-05-07 19:45:12,270 [INFO    ] Download completed\n",
      "2020-05-07 19:45:17,278 [INFO    ] Start download, d03_text_station_5min_2002_01_11.txt.gz\n",
      "2020-05-07 19:45:19,844 [INFO    ] Download completed\n",
      "2020-05-07 19:45:24,870 [INFO    ] Start download, d03_text_station_5min_2002_01_12.txt.gz\n",
      "2020-05-07 19:45:27,482 [INFO    ] Download completed\n",
      "2020-05-07 19:45:32,500 [INFO    ] Start download, d03_text_station_5min_2002_01_13.txt.gz\n",
      "2020-05-07 19:45:35,086 [INFO    ] Download completed\n",
      "2020-05-07 19:45:40,095 [INFO    ] Start download, d03_text_station_5min_2002_01_14.txt.gz\n",
      "2020-05-07 19:45:42,771 [INFO    ] Download completed\n",
      "2020-05-07 19:45:47,778 [INFO    ] Start download, d03_text_station_5min_2002_01_15.txt.gz\n",
      "2020-05-07 19:45:50,358 [INFO    ] Download completed\n",
      "2020-05-07 19:45:55,370 [INFO    ] Start download, d03_text_station_5min_2002_01_16.txt.gz\n",
      "2020-05-07 19:45:58,031 [INFO    ] Download completed\n",
      "2020-05-07 19:46:03,044 [INFO    ] Start download, d03_text_station_5min_2002_01_17.txt.gz\n",
      "2020-05-07 19:46:05,874 [INFO    ] Download completed\n",
      "2020-05-07 19:46:10,896 [INFO    ] Start download, d03_text_station_5min_2002_01_18.txt.gz\n",
      "2020-05-07 19:46:13,587 [INFO    ] Download completed\n",
      "2020-05-07 19:46:18,608 [INFO    ] Start download, d03_text_station_5min_2002_01_19.txt.gz\n",
      "2020-05-07 19:46:21,147 [INFO    ] Download completed\n",
      "2020-05-07 19:46:26,171 [INFO    ] Start download, d03_text_station_5min_2002_01_20.txt.gz\n",
      "2020-05-07 19:46:28,608 [INFO    ] Download completed\n",
      "2020-05-07 19:46:33,630 [INFO    ] Start download, d03_text_station_5min_2002_01_21.txt.gz\n",
      "2020-05-07 19:46:36,206 [INFO    ] Download completed\n",
      "2020-05-07 19:46:41,235 [INFO    ] Start download, d03_text_station_5min_2002_01_22.txt.gz\n",
      "2020-05-07 19:46:44,229 [INFO    ] Download completed\n",
      "2020-05-07 19:46:49,249 [INFO    ] Start download, d03_text_station_5min_2002_01_23.txt.gz\n",
      "2020-05-07 19:46:51,726 [INFO    ] Download completed\n",
      "2020-05-07 19:46:56,747 [INFO    ] Start download, d03_text_station_5min_2002_01_24.txt.gz\n",
      "2020-05-07 19:46:59,119 [INFO    ] Download completed\n",
      "2020-05-07 19:47:04,137 [INFO    ] Start download, d03_text_station_5min_2002_01_25.txt.gz\n",
      "2020-05-07 19:47:06,654 [INFO    ] Download completed\n",
      "2020-05-07 19:47:11,674 [INFO    ] Start download, d03_text_station_5min_2002_01_26.txt.gz\n",
      "2020-05-07 19:47:14,108 [INFO    ] Download completed\n",
      "2020-05-07 19:47:19,124 [INFO    ] Start download, d03_text_station_5min_2002_01_27.txt.gz\n",
      "2020-05-07 19:47:21,609 [INFO    ] Download completed\n",
      "2020-05-07 19:47:26,632 [INFO    ] Start download, d03_text_station_5min_2002_01_28.txt.gz\n",
      "2020-05-07 19:47:29,099 [INFO    ] Download completed\n",
      "2020-05-07 19:47:34,120 [INFO    ] Start download, d03_text_station_5min_2002_01_29.txt.gz\n",
      "2020-05-07 19:47:36,711 [INFO    ] Download completed\n",
      "2020-05-07 19:47:41,734 [INFO    ] Start download, d03_text_station_5min_2002_01_30.txt.gz\n",
      "2020-05-07 19:47:44,366 [INFO    ] Download completed\n",
      "2020-05-07 19:47:49,377 [INFO    ] Start download, d03_text_station_5min_2002_01_31.txt.gz\n",
      "2020-05-07 19:47:51,992 [INFO    ] Download completed\n",
      "2020-05-07 19:47:57,028 [INFO    ] Downloads complete, 31 files, 30.8 megabites\n"
     ]
    }
   ],
   "source": [
    "# Download files for (start_year, end_year, districts, file_types) query\n",
    "pems.download_files(start_year=2001, end_year=2002, districts=['3'], file_types=['station_5min'], months=['January'])"
   ]
  }
 ],
 "metadata": {
  "kernelspec": {
   "display_name": "Python 3",
   "language": "python",
   "name": "python3"
  },
  "language_info": {
   "codemirror_mode": {
    "name": "ipython",
    "version": 3
   },
   "file_extension": ".py",
   "mimetype": "text/x-python",
   "name": "python",
   "nbconvert_exporter": "python",
   "pygments_lexer": "ipython3",
   "version": "3.7.7"
  }
 },
 "nbformat": 4,
 "nbformat_minor": 4
}
